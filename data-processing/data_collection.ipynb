{
 "cells": [
  {
   "cell_type": "code",
   "execution_count": 6,
   "metadata": {},
   "outputs": [],
   "source": [
    "import pandas as pd\n",
    "import matplotlib.pyplot as plt\n",
    "import numpy as np\n",
    "from sklearn.preprocessing import MinMaxScaler\n",
    "from bs4 import BeautifulSoup\n",
    "import requests\n",
    "import openpyxl"
   ]
  },
  {
   "cell_type": "markdown",
   "metadata": {},
   "source": [
    "## Medical Landscape Data"
   ]
  },
  {
   "cell_type": "code",
   "execution_count": 8,
   "metadata": {},
   "outputs": [
    {
     "name": "stdout",
     "output_type": "stream",
     "text": [
      "   Year  Share with medical debt in collections  \\\n",
      "0  2011                                   0.188   \n",
      "1  2012                                   0.190   \n",
      "2  2013                                   0.195   \n",
      "3  2014                                   0.193   \n",
      "4  2015                                   0.188   \n",
      "\n",
      "   Median medical debt in collections in $2023  \\\n",
      "0                                          830   \n",
      "1                                          823   \n",
      "2                                          842   \n",
      "3                                          861   \n",
      "4                                          865   \n",
      "\n",
      "   Share of the population with no health insurance coverage  \n",
      "0                                              0.151          \n",
      "1                                              0.148          \n",
      "2                                              0.145          \n",
      "3                                              0.117          \n",
      "4                                              0.094          \n"
     ]
    }
   ],
   "source": [
    "df = pd.read_excel('changing_medical_landscape.xlsx')\n",
    "\n",
    "df.drop(['usa', 'Share with medical debt in collections - Majority White', 'Median medical debt in collections in $2023 - Majority White','Share with medical debt in collections - Majority of Color', 'Median medical debt in collections in $2023 - Majority of Color', 'Hospital market concentration (HHI)', 'Number of Closures and Mergers', 'Share of non-elderly adults with a reported disability', 'Average household income in $2023'\n",
    " ], axis=1, inplace=True)\n",
    "\n",
    "print(df.head())"
   ]
  },
  {
   "cell_type": "markdown",
   "metadata": {},
   "source": [
    "## Healthcare Insurance Revenue Data"
   ]
  },
  {
   "cell_type": "code",
   "execution_count": 11,
   "metadata": {},
   "outputs": [
    {
     "name": "stdout",
     "output_type": "stream",
     "text": [
      "    Year  UnitedHealth Group Total Revenue  Anthem Total Revenue  \\\n",
      "0   2011                      101860000000           60710000000   \n",
      "1   2012                      110620000000           61710000000   \n",
      "2   2013                      122490000000           71020000000   \n",
      "3   2014                      130470000000           73870000000   \n",
      "4   2015                      157110000000           79150000000   \n",
      "5   2016                      184840000000           84860000000   \n",
      "6   2017                      201160000000           90030000000   \n",
      "7   2018                      226250000000           92100000000   \n",
      "8   2019                      242160000000          104210000000   \n",
      "9   2020                      257140000000          121860000000   \n",
      "10  2021                      287600000000          138630000000   \n",
      "11  2022                      324160000000          144340000000   \n",
      "\n",
      "    Aetna Total Revenue  Oscar Health Total Revenue  Molina Total Revenue  \\\n",
      "0           33780000000                           0            4760000000   \n",
      "1           36600000000                           0            5970000000   \n",
      "2           47290000000                           0            6580000000   \n",
      "3           58000000000                           0            9660000000   \n",
      "4           60340000000                           0           14170000000   \n",
      "5           63160000000                           0           17780000000   \n",
      "6           60540000000                           0           19880000000   \n",
      "7                     0                           0           18890000000   \n",
      "8                     0                           0           16820000000   \n",
      "9                     0                           0           19420000000   \n",
      "10                    0                  1920000000           27770000000   \n",
      "11                    0                  4130000000           31970000000   \n",
      "\n",
      "    Cigna Total Revenue  Kaiser Permanente Total Revenue  \n",
      "0           21760000000                                0  \n",
      "1           29050000000                                0  \n",
      "2           32380000000                                0  \n",
      "3           34910000000                      56400000000  \n",
      "4           37870000000                      60700000000  \n",
      "5           39660000000                      64600000000  \n",
      "6           41910000000                      72700000000  \n",
      "7           48560000000                      79700000000  \n",
      "8          153740000000                      84500000000  \n",
      "9          160550000000                      88700000000  \n",
      "10         174270000000                      93100000000  \n",
      "11         180020000000                      95400000000  \n"
     ]
    }
   ],
   "source": [
    "data = {\n",
    "    'Year': list(range(2011, 2023)),\n",
    "    'UnitedHealth Group Total Revenue': [\n",
    "        101860000000, 110620000000, 122490000000, 130470000000, 157110000000, \n",
    "        184840000000, 201160000000, 226250000000, 242160000000, 257140000000,\n",
    "        287600000000, 324160000000\n",
    "    ],\n",
    "    'Anthem Total Revenue' : [\n",
    "        60710000000,  61710000000, 71020000000, 73870000000, 79150000000,  84860000000,  \n",
    "        90030000000, 92100000000,  104210000000, 121860000000, 138630000000, 144340000000  \n",
    "    ],\n",
    "    'Aetna Total Revenue':[\n",
    "        33780000000, 36600000000, 47290000000, 58000000000, 60340000000, \n",
    "        63160000000, 60540000000,0, 0, 0, 0, 0\n",
    "    ], \n",
    "    'Oscar Health Total Revenue':[\n",
    "        0, 0, 0, 0, 0, 0, 0, 0, 0, 0, 1920000000, 4130000000\n",
    "    ],\n",
    "    'Molina Total Revenue':[\n",
    "        4760000000, 5970000000, 6580000000, 9660000000, 14170000000, 17780000000, \n",
    "        19880000000, 18890000000, 16820000000, 19420000000, 27770000000, 31970000000\n",
    "    ],\n",
    "    'Cigna Total Revenue':[\n",
    "        21760000000, 29050000000, 32380000000, 34910000000, 37870000000, 39660000000, \n",
    "        41910000000, 48560000000, 153740000000, 160550000000, 174270000000, 180020000000\n",
    "    ],\n",
    "    'Kaiser Permanente Total Revenue' :[ \n",
    "        0, 0, 0, 56400000000,60700000000,64600000000,72700000000,79700000000,\n",
    "        84500000000,88700000000,93100000000,95400000000\n",
    "    ]\n",
    "}\n",
    "# sources: https://www.statista.com/statistics/214504/total-revenue-of-unitedhealth/, https://companiesmarketcap.com/,\n",
    "# https://about.kaiserpermanente.org/who-we-are/fast-facts\n",
    "\n",
    "revenue_df = pd.DataFrame(data)\n",
    "print(revenue_df)"
   ]
  },
  {
   "cell_type": "code",
   "execution_count": 18,
   "metadata": {},
   "outputs": [
    {
     "name": "stdout",
     "output_type": "stream",
     "text": [
      "    Year  UnitedHealth Group Total Revenue  Anthem Total Revenue  \\\n",
      "0   2011                      101860000000           60710000000   \n",
      "1   2012                      110620000000           61710000000   \n",
      "2   2013                      122490000000           71020000000   \n",
      "3   2014                      130470000000           73870000000   \n",
      "4   2015                      157110000000           79150000000   \n",
      "5   2016                      184840000000           84860000000   \n",
      "6   2017                      201160000000           90030000000   \n",
      "7   2018                      226250000000           92100000000   \n",
      "8   2019                      242160000000          104210000000   \n",
      "9   2020                      257140000000          121860000000   \n",
      "10  2021                      287600000000          138630000000   \n",
      "11  2022                      324160000000          144340000000   \n",
      "\n",
      "    Aetna Total Revenue  Oscar Health Total Revenue  Molina Total Revenue  \\\n",
      "0           33780000000                           0            4760000000   \n",
      "1           36600000000                           0            5970000000   \n",
      "2           47290000000                           0            6580000000   \n",
      "3           58000000000                           0            9660000000   \n",
      "4           60340000000                           0           14170000000   \n",
      "5           63160000000                           0           17780000000   \n",
      "6           60540000000                           0           19880000000   \n",
      "7                     0                           0           18890000000   \n",
      "8                     0                           0           16820000000   \n",
      "9                     0                           0           19420000000   \n",
      "10                    0                  1920000000           27770000000   \n",
      "11                    0                  4130000000           31970000000   \n",
      "\n",
      "    Cigna Total Revenue  Kaiser Permanente Total Revenue  \\\n",
      "0           21760000000                                0   \n",
      "1           29050000000                                0   \n",
      "2           32380000000                                0   \n",
      "3           34910000000                      56400000000   \n",
      "4           37870000000                      60700000000   \n",
      "5           39660000000                      64600000000   \n",
      "6           41910000000                      72700000000   \n",
      "7           48560000000                      79700000000   \n",
      "8          153740000000                      84500000000   \n",
      "9          160550000000                      88700000000   \n",
      "10         174270000000                      93100000000   \n",
      "11         180020000000                      95400000000   \n",
      "\n",
      "                     Medica Health Plus Total Revenue  \n",
      "0   <built-in method pop of list object at 0x00000...  \n",
      "1   <built-in method pop of list object at 0x00000...  \n",
      "2   <built-in method pop of list object at 0x00000...  \n",
      "3   <built-in method pop of list object at 0x00000...  \n",
      "4   <built-in method pop of list object at 0x00000...  \n",
      "5   <built-in method pop of list object at 0x00000...  \n",
      "6   <built-in method pop of list object at 0x00000...  \n",
      "7   <built-in method pop of list object at 0x00000...  \n",
      "8   <built-in method pop of list object at 0x00000...  \n",
      "9   <built-in method pop of list object at 0x00000...  \n",
      "10  <built-in method pop of list object at 0x00000...  \n",
      "11  <built-in method pop of list object at 0x00000...  \n"
     ]
    }
   ],
   "source": [
    "## Webscraping from Propublica\n",
    "\n",
    "url = 'https://projects.propublica.org/nonprofits/organizations/411242261'\n",
    "\n",
    "response = requests.get(url)\n",
    "soup = BeautifulSoup(response.text, 'html.parser')\n",
    "\n",
    "revenue_elements = soup.find_all(class_='row-revenue__number stack__item--size-1')\n",
    "\n",
    "revenues = []\n",
    "for element in revenue_elements:\n",
    "    revenue_text = element.text.strip().replace('$', '').replace(',', '')\n",
    "    if revenue_text.isdigit():\n",
    "        revenue = int(revenue_text)\n",
    "    else:\n",
    "        revenue = None\n",
    "    revenues.append(revenue)\n",
    "\n",
    "revenues.reverse()\n",
    "\n",
    "revenue_df['Medica Health Plus Total Revenue'] = revenues.pop\n",
    "print(revenue_df)\n"
   ]
  },
  {
   "cell_type": "code",
   "execution_count": 23,
   "metadata": {},
   "outputs": [
    {
     "name": "stdout",
     "output_type": "stream",
     "text": [
      "{'https://projects.propublica.org/nonprofits/organizations/411242261': [1742750971, 1758311981, 1412472432, 1898923332, 1959862328, 2538424327, 1494831948, 1039894413, 1383149041, 1158090888, 1218114241, 1320077888, 1453962017], 'https://projects.propublica.org/nonprofits/organizations/311143265': [2722762319, 3367359355, 3643754539, 5003075985, 6202791309, 6440829493, 7220866266, 7819337654, 8150209969, 9272879618, 9756197809, 10064129024, 8525679969]}\n"
     ]
    }
   ],
   "source": [
    "urls = [\n",
    "    'https://projects.propublica.org/nonprofits/organizations/411242261',\n",
    "    'https://projects.propublica.org/nonprofits/organizations/311143265'\n",
    "]\n",
    "\n",
    "revenue_data = {}\n",
    "\n",
    "for url in urls:\n",
    "    response = requests.get(url)\n",
    "    soup = BeautifulSoup(response.text, 'html.parser')\n",
    "\n",
    "    revenue_elements = soup.find_all(class_='row-revenue__number stack__item--size-1')\n",
    "\n",
    "    revenues = []\n",
    "    for element in revenue_elements:\n",
    "        revenue_text = element.text.strip().replace('$', '').replace(',', '')\n",
    "        if revenue_text.isdigit():\n",
    "            revenue = int(revenue_text)\n",
    "        else:\n",
    "            revenue = None\n",
    "        revenues.append(revenue)\n",
    "\n",
    "    revenues.reverse()\n",
    "    revenue_data[url] = revenues\n",
    "\n",
    "revenue_df['Caresource Total Revenue'] = [\n",
    "    2722762319, 3367359355, 3643754539, 5003075985, 6202791309, 6440829493, 7220866266, \n",
    "    7819337654, 8150209969, 9272879618, 9756197809, 10064129024\n",
    "]\n",
    "\n",
    "print(revenue_data)\n"
   ]
  },
  {
   "cell_type": "markdown",
   "metadata": {},
   "source": [
    "## Merge Revenue Dataframes"
   ]
  },
  {
   "cell_type": "code",
   "execution_count": 24,
   "metadata": {},
   "outputs": [
    {
     "name": "stdout",
     "output_type": "stream",
     "text": [
      "    Year  UnitedHealth Group Total Revenue  Anthem Total Revenue  \\\n",
      "0   2011                      101860000000           60710000000   \n",
      "1   2012                      110620000000           61710000000   \n",
      "2   2013                      122490000000           71020000000   \n",
      "3   2014                      130470000000           73870000000   \n",
      "4   2015                      157110000000           79150000000   \n",
      "5   2016                      184840000000           84860000000   \n",
      "6   2017                      201160000000           90030000000   \n",
      "7   2018                      226250000000           92100000000   \n",
      "8   2019                      242160000000          104210000000   \n",
      "9   2020                      257140000000          121860000000   \n",
      "10  2021                      287600000000          138630000000   \n",
      "11  2022                      324160000000          144340000000   \n",
      "\n",
      "    Aetna Total Revenue  Oscar Health Total Revenue  Molina Total Revenue  \\\n",
      "0          3.378000e+10                         NaN            4760000000   \n",
      "1          3.660000e+10                         NaN            5970000000   \n",
      "2          4.729000e+10                         NaN            6580000000   \n",
      "3          5.800000e+10                         NaN            9660000000   \n",
      "4          6.034000e+10                         NaN           14170000000   \n",
      "5          6.316000e+10                         NaN           17780000000   \n",
      "6          6.054000e+10                         NaN           19880000000   \n",
      "7                   NaN                         NaN           18890000000   \n",
      "8                   NaN                         NaN           16820000000   \n",
      "9                   NaN                         NaN           19420000000   \n",
      "10                  NaN                1.920000e+09           27770000000   \n",
      "11                  NaN                4.130000e+09           31970000000   \n",
      "\n",
      "    Cigna Total Revenue  Kaiser Permanente Total Revenue  \\\n",
      "0           21760000000                              NaN   \n",
      "1           29050000000                              NaN   \n",
      "2           32380000000                              NaN   \n",
      "3           34910000000                     5.640000e+10   \n",
      "4           37870000000                     6.070000e+10   \n",
      "5           39660000000                     6.460000e+10   \n",
      "6           41910000000                     7.270000e+10   \n",
      "7           48560000000                     7.970000e+10   \n",
      "8          153740000000                     8.450000e+10   \n",
      "9          160550000000                     8.870000e+10   \n",
      "10         174270000000                     9.310000e+10   \n",
      "11         180020000000                     9.540000e+10   \n",
      "\n",
      "                     Medica Health Plus Total Revenue  \\\n",
      "0   <built-in method pop of list object at 0x00000...   \n",
      "1   <built-in method pop of list object at 0x00000...   \n",
      "2   <built-in method pop of list object at 0x00000...   \n",
      "3   <built-in method pop of list object at 0x00000...   \n",
      "4   <built-in method pop of list object at 0x00000...   \n",
      "5   <built-in method pop of list object at 0x00000...   \n",
      "6   <built-in method pop of list object at 0x00000...   \n",
      "7   <built-in method pop of list object at 0x00000...   \n",
      "8   <built-in method pop of list object at 0x00000...   \n",
      "9   <built-in method pop of list object at 0x00000...   \n",
      "10  <built-in method pop of list object at 0x00000...   \n",
      "11  <built-in method pop of list object at 0x00000...   \n",
      "\n",
      "    Caresource Total Revenue  Share with medical debt in collections  \\\n",
      "0                 2722762319                                   0.188   \n",
      "1                 3367359355                                   0.190   \n",
      "2                 3643754539                                   0.195   \n",
      "3                 5003075985                                   0.193   \n",
      "4                 6202791309                                   0.188   \n",
      "5                 6440829493                                   0.180   \n",
      "6                 7220866266                                   0.170   \n",
      "7                 7819337654                                   0.165   \n",
      "8                 8150209969                                   0.155   \n",
      "9                 9272879618                                   0.148   \n",
      "10                9756197809                                   0.139   \n",
      "11               10064129024                                   0.116   \n",
      "\n",
      "    Median medical debt in collections in $2023  \\\n",
      "0                                           830   \n",
      "1                                           823   \n",
      "2                                           842   \n",
      "3                                           861   \n",
      "4                                           865   \n",
      "5                                           865   \n",
      "6                                           848   \n",
      "7                                           842   \n",
      "8                                           919   \n",
      "9                                           918   \n",
      "10                                          870   \n",
      "11                                          731   \n",
      "\n",
      "    Share of the population with no health insurance coverage  \n",
      "0                                               0.151          \n",
      "1                                               0.148          \n",
      "2                                               0.145          \n",
      "3                                               0.117          \n",
      "4                                               0.094          \n",
      "5                                               0.086          \n",
      "6                                               0.087          \n",
      "7                                               0.089          \n",
      "8                                               0.092          \n",
      "9                                                 NaN          \n",
      "10                                              0.086          \n",
      "11                                              0.080          \n"
     ]
    }
   ],
   "source": [
    "merged_df = pd.merge(revenue_df, df, on='Year', how='inner')\n",
    "merged_df.replace(0, np.nan, inplace=True)\n",
    "\n",
    "print(merged_df)\n"
   ]
  },
  {
   "cell_type": "markdown",
   "metadata": {},
   "source": [
    "## Export Data to CSV"
   ]
  },
  {
   "cell_type": "code",
   "execution_count": null,
   "metadata": {},
   "outputs": [],
   "source": [
    "merged_df.to_csv(\"insurance_data.csv\", sep=',', encoding='utf-8')"
   ]
  },
  {
   "cell_type": "code",
   "execution_count": 12,
   "metadata": {},
   "outputs": [],
   "source": [
    "merged_df.drop(['Share with medical debt in collections','Median medical debt in collections in $2023','Share of the population with no health insurance coverage'], axis=1, inplace=True)\n",
    "merged_df.to_csv(\"revenue_only_data.csv\", sep=',', encoding='utf-8')"
   ]
  },
  {
   "cell_type": "markdown",
   "metadata": {},
   "source": [
    "# Insurance Company Claims and Revenue in 2023"
   ]
  },
  {
   "cell_type": "code",
   "execution_count": null,
   "metadata": {},
   "outputs": [
    {
     "name": "stdout",
     "output_type": "stream",
     "text": [
      "              Company  Denied Claims  Revenue (USD)\n",
      "0  UnitedHealth Group           0.32   371620000000\n",
      "1              Medica           0.27     2000000000\n",
      "2              Anthem           0.23   171340000000\n",
      "3               Aetna           0.20   186800000000\n",
      "4          CareSource           0.20    11100000000\n",
      "5              Molina           0.19    34072000000\n",
      "6               Cigna           0.18   195300000000\n",
      "7        Oscar Health           0.12     2400000000\n",
      "8   Kaiser Permanente           0.07   100800000000\n"
     ]
    }
   ],
   "source": [
    "claims_revenue_2023 = {\n",
    "    \"Company\":[\"UnitedHealth Group\", \"Medica\", \"Anthem\", \"Aetna\", \"CareSource\", \"Molina\", \"Cigna\", \"Oscar Health\", \"Kaiser Permanente\"],\n",
    "    \"Denied Claims\": [0.32, 0.27, 0.23, 0.2, 0.2, 0.19, 0.18, 0.12, 0.07],\n",
    "    \"Revenue (USD)\": [371620000000, 2000000000, 171340000000, 186800000000, 11100000000, 34072000000, 195300000000, 2400000000, 100800000000]\n",
    "}\n",
    "\n",
    "claims_revenue_2023 = pd.DataFrame(claims_revenue_2023)\n",
    "\n",
    "print(claims_revenue_2023)\n",
    "# Sources: https://www.statista.com/statistics/214504/total-revenue-of-unitedhealth/#:~:text=The%20UnitedHealth%20Group%20is%20a,billion%20U.S.%20dollars%20in%202023.\n",
    "# https://www.statista.com/statistics/214529/total-revenue-of-wellpoint/#:~:text=Revenues%20reported%20by%20Elevance%20Health,billion%20U.S.%20dollars%20by%202023.\n",
    "# https://acdis.org/articles/news-largest-payers-ranked-revenue-2023#:~:text=Total%20revenues%20at%20Aetna%20in,up%2010.2%25%20year%20over%20year.\n",
    "# https://www.caresource.com/newsroom/fact-sheets/company-fact-sheet/\n",
    "# https://www.macrotrends.net/stocks/charts/MOH/molina-healthcare/revenue#:~:text=Molina%20Healthcare%20annual%20revenue%20for,a%2042.98%25%20increase%20from%202020.\n",
    "# https://ir.hioscar.com/financials/quarterly-results/default.aspx\n",
    "# https://about.kaiserpermanente.org/news/press-release-archive/kaiser-foundation-health-plan-and-hospitals-report-2023-financial-results#:~:text=Operating%20revenues%20for%202023%20were,of%20%243.2%20billion%20in%202022.\n"
   ]
  },
  {
   "cell_type": "markdown",
   "metadata": {},
   "source": [
    "## Export data to CSV"
   ]
  },
  {
   "cell_type": "code",
   "execution_count": 4,
   "metadata": {},
   "outputs": [],
   "source": [
    "claims_revenue_2023.to_csv(\"insurance_claims_revenue.csv\", sep=',', encoding='utf-8')"
   ]
  }
 ],
 "metadata": {
  "kernelspec": {
   "display_name": "Python 3",
   "language": "python",
   "name": "python3"
  },
  "language_info": {
   "codemirror_mode": {
    "name": "ipython",
    "version": 3
   },
   "file_extension": ".py",
   "mimetype": "text/x-python",
   "name": "python",
   "nbconvert_exporter": "python",
   "pygments_lexer": "ipython3",
   "version": "3.12.9"
  }
 },
 "nbformat": 4,
 "nbformat_minor": 2
}
